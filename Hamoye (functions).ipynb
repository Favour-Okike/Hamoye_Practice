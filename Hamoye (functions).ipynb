{
 "cells": [
  {
   "cell_type": "code",
   "execution_count": 2,
   "id": "ae504750",
   "metadata": {
    "scrolled": true
   },
   "outputs": [
    {
     "name": "stdout",
     "output_type": "stream",
     "text": [
      "Hello World!\n"
     ]
    }
   ],
   "source": [
    "def hello():\n",
    "    print(\"Hello World!\")\n",
    "hello()"
   ]
  },
  {
   "cell_type": "code",
   "execution_count": 4,
   "id": "8b0bae42",
   "metadata": {},
   "outputs": [
    {
     "name": "stdout",
     "output_type": "stream",
     "text": [
      "Hello bob\n"
     ]
    }
   ],
   "source": [
    "def greetings(name):\n",
    "    print(\"Hello {}\".format(name))\n",
    "    \n",
    "greetings(\"bob\")"
   ]
  },
  {
   "cell_type": "code",
   "execution_count": 24,
   "id": "af5464b1",
   "metadata": {},
   "outputs": [
    {
     "name": "stdout",
     "output_type": "stream",
     "text": [
      "favour is a banker\n",
      "favour is a developer\n"
     ]
    }
   ],
   "source": [
    "def func(fname1, job = 'developer'):\n",
    "    print(fname1, 'is a', job)\n",
    "\n",
    "func('favour', 'banker')\n",
    "func('favour')"
   ]
  },
  {
   "cell_type": "code",
   "execution_count": 25,
   "id": "8f90e62f",
   "metadata": {},
   "outputs": [
    {
     "name": "stdout",
     "output_type": "stream",
     "text": [
      "(90, 'hjnk', 89)\n"
     ]
    }
   ],
   "source": [
    "def print_arguments(*args):\n",
    "    print(args)\n",
    "print_arguments(90,\"hjnk\",89)"
   ]
  },
  {
   "cell_type": "code",
   "execution_count": 26,
   "id": "99eec51e",
   "metadata": {},
   "outputs": [
    {
     "name": "stdout",
     "output_type": "stream",
     "text": [
      "{'namee': 'bob', 'agee': 25}\n"
     ]
    }
   ],
   "source": [
    "def printkey_arguments(**kwargs):\n",
    "    print(kwargs)\n",
    "printkey_arguments(namee='bob', agee=25)"
   ]
  },
  {
   "cell_type": "code",
   "execution_count": 29,
   "id": "f0a70266",
   "metadata": {},
   "outputs": [
    {
     "name": "stdout",
     "output_type": "stream",
     "text": [
      "(30, 0.8333333333333334)\n"
     ]
    }
   ],
   "source": [
    "def muldiv(a, b):\n",
    "    return a * b, a/b\n",
    "x = muldiv(5, 6)\n",
    "print (x)"
   ]
  },
  {
   "cell_type": "code",
   "execution_count": 31,
   "id": "36d03bc7",
   "metadata": {},
   "outputs": [
    {
     "name": "stdout",
     "output_type": "stream",
     "text": [
      "Hello, World!\n",
      "Help on function hello in module __main__:\n",
      "\n",
      "hello()\n",
      "    This function prints\n",
      "    messages on the screen\n",
      "\n"
     ]
    }
   ],
   "source": [
    "#docstring\n",
    "def hello():\n",
    "    \"\"\"This function prints\n",
    "    messages on the screen\n",
    "    \"\"\"\n",
    "    \n",
    "print('Hello, World!')\n",
    "help(hello)"
   ]
  }
 ],
 "metadata": {
  "kernelspec": {
   "display_name": "Python 3 (ipykernel)",
   "language": "python",
   "name": "python3"
  },
  "language_info": {
   "codemirror_mode": {
    "name": "ipython",
    "version": 3
   },
   "file_extension": ".py",
   "mimetype": "text/x-python",
   "name": "python",
   "nbconvert_exporter": "python",
   "pygments_lexer": "ipython3",
   "version": "3.9.13"
  }
 },
 "nbformat": 4,
 "nbformat_minor": 5
}
