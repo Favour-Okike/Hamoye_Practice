{
 "cells": [
  {
   "cell_type": "code",
   "execution_count": 3,
   "id": "a083d0b7",
   "metadata": {},
   "outputs": [],
   "source": [
    "class car:\n",
    "    def __init__(self):\n",
    "        pass"
   ]
  },
  {
   "cell_type": "code",
   "execution_count": 16,
   "id": "ca10e86d",
   "metadata": {},
   "outputs": [
    {
     "name": "stdout",
     "output_type": "stream",
     "text": [
      "16\n",
      "black\n",
      "bone straight\n",
      "This wig is a black 16 inches bone straight wig\n",
      "This wig is a brown 20 inches bone straight wig\n"
     ]
    }
   ],
   "source": [
    "\n",
    "class Wig:\n",
    "    #class attribute(same for all objects)\n",
    "    style = \"bone straight\" #for cars; wheels = 4\n",
    "    \n",
    "    #instance attribute\n",
    "    def __init__(self,length, color):\n",
    "        self.length = length\n",
    "        self.color = color\n",
    "    \n",
    "    #method1\n",
    "    def descriptionofunit(self):\n",
    "        print(\"This wig is a\", self.color, self.length, \"inches\", self.style, \"wig\")\n",
    "   \n",
    "    #method2\n",
    "    def changeColor(self, color):\n",
    "        self.color = color\n",
    "        \n",
    "    #method3\n",
    "    def changeLength(self, length):\n",
    "        self.length = length\n",
    "        \n",
    "chioma = Wig(16, \"black\") #customer chioma's bonestraight is black and 16 inches\n",
    "\n",
    "print(chioma.length)\n",
    "print(chioma.color)\n",
    "print(chioma.style)\n",
    "chioma.descriptionofunit()\n",
    "\n",
    "chioma.changeLength(20)\n",
    "chioma.changeColor(\"brown\")\n",
    "chioma.descriptionofunit()\n",
    "\n",
    "#all the bone straight wigs would have unique lengths and colors        "
   ]
  },
  {
   "cell_type": "code",
   "execution_count": null,
   "id": "8463ad28",
   "metadata": {},
   "outputs": [],
   "source": [
    "#Methods\n"
   ]
  }
 ],
 "metadata": {
  "kernelspec": {
   "display_name": "Python 3 (ipykernel)",
   "language": "python",
   "name": "python3"
  },
  "language_info": {
   "codemirror_mode": {
    "name": "ipython",
    "version": 3
   },
   "file_extension": ".py",
   "mimetype": "text/x-python",
   "name": "python",
   "nbconvert_exporter": "python",
   "pygments_lexer": "ipython3",
   "version": "3.9.13"
  }
 },
 "nbformat": 4,
 "nbformat_minor": 5
}
