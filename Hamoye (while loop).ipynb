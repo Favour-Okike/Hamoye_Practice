{
 "cells": [
  {
   "cell_type": "code",
   "execution_count": null,
   "id": "1453afb0",
   "metadata": {},
   "outputs": [],
   "source": [
    "#dictionaries\n",
    "student1 = {'name':'favour',\n",
    "            'age':23,\n",
    "            'name':'ifeoma',\n",
    "            'class':'First-class',\n",
    "            'email':'fokike4@gmail.com'} #creating dictionaries\n",
    "print(student1)\n",
    "\n",
    "#alternative for creating dictionaries\n",
    "keys = ['name', 'age', 'class', 'email']\n",
    "values = ['okike', 23, 'First-class', 'okike4@gmail.com']\n",
    "student2 = dict(zip(keys, values))\n",
    "print(student2)\n",
    "\n",
    "#examples involving dictionaries\n",
    "print(student1['name'])\n",
    "print(student1.get('name'))\n",
    "print(student1.get('id'))\n",
    "student2['name']='chioma'\n",
    "print(student2)\n",
    "student2['occupation']='banking'\n",
    "print(student2)\n",
    "student1.update(student2)#merging two dictionaries\n",
    "print(student1)\n",
    "student1.pop('age')#otherwise use del student1['age']\n",
    "print(student1)\n",
    "student1.clear()\n",
    "print(student1)"
   ]
  },
  {
   "cell_type": "code",
   "execution_count": 17,
   "id": "fda9c0ac",
   "metadata": {},
   "outputs": [
    {
     "name": "stdout",
     "output_type": "stream",
     "text": [
      "hello\n",
      "hello\n",
      "hello\n",
      "go!\n"
     ]
    }
   ],
   "source": [
    "#while loop\n",
    "x = 3\n",
    "while x > 0 :\n",
    "    print(x)\n",
    "    x = x - 1\n",
    "print(\"go!\")"
   ]
  },
  {
   "cell_type": "code",
   "execution_count": 16,
   "id": "765d3ea4",
   "metadata": {},
   "outputs": [
    {
     "name": "stdout",
     "output_type": "stream",
     "text": [
      "Enter your name: Favy\n"
     ]
    }
   ],
   "source": [
    "name= input(\"Enter your name: \")"
   ]
  },
  {
   "cell_type": "code",
   "execution_count": 21,
   "id": "f32b6b2f",
   "metadata": {
    "scrolled": true
   },
   "outputs": [
    {
     "name": "stdout",
     "output_type": "stream",
     "text": [
      "5\n",
      "6\n",
      "7\n",
      "8\n"
     ]
    }
   ],
   "source": [
    "#using break in while statement\n",
    "x = 5\n",
    "n = 10\n",
    "while x<=n:\n",
    "    print(x)\n",
    "    if x == 8:\n",
    "        break\n",
    "    x += 1\n",
    "    \n",
    "\n",
    "        "
   ]
  },
  {
   "cell_type": "code",
   "execution_count": 44,
   "id": "bc1e15ca",
   "metadata": {},
   "outputs": [
    {
     "name": "stdout",
     "output_type": "stream",
     "text": [
      "15\n",
      "14\n",
      "13\n",
      "12\n",
      "11\n",
      "10\n",
      "9\n",
      "8\n",
      "7\n",
      "6\n"
     ]
    }
   ],
   "source": [
    "#using continue in while statement\n",
    "v = 15\n",
    "while v >= 6:\n",
    "    print(v)\n",
    "    v -= 1\n",
    "    if v == 8:\n",
    "        continue\n",
    "    \n",
    "   "
   ]
  }
 ],
 "metadata": {
  "kernelspec": {
   "display_name": "Python 3 (ipykernel)",
   "language": "python",
   "name": "python3"
  },
  "language_info": {
   "codemirror_mode": {
    "name": "ipython",
    "version": 3
   },
   "file_extension": ".py",
   "mimetype": "text/x-python",
   "name": "python",
   "nbconvert_exporter": "python",
   "pygments_lexer": "ipython3",
   "version": "3.9.13"
  }
 },
 "nbformat": 4,
 "nbformat_minor": 5
}
