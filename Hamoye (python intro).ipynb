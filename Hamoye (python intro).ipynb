{
 "cells": [
  {
   "cell_type": "markdown",
   "id": "ce2d8d7d",
   "metadata": {},
   "source": [
    "|header|header|\n"
   ]
  },
  {
   "cell_type": "code",
   "execution_count": 1,
   "id": "797ee85f",
   "metadata": {},
   "outputs": [
    {
     "ename": "SyntaxError",
     "evalue": "invalid syntax (2673710196.py, line 1)",
     "output_type": "error",
     "traceback": [
      "\u001b[0;36m  File \u001b[0;32m\"/var/folders/pl/319gtzkn0mxfb130xvl35sgh0000gn/T/ipykernel_86581/2673710196.py\"\u001b[0;36m, line \u001b[0;32m1\u001b[0m\n\u001b[0;31m    <table>\u001b[0m\n\u001b[0m    ^\u001b[0m\n\u001b[0;31mSyntaxError\u001b[0m\u001b[0;31m:\u001b[0m invalid syntax\n"
     ]
    }
   ],
   "source": [
    "<table>"
   ]
  },
  {
   "cell_type": "code",
   "execution_count": null,
   "id": "51f6d303",
   "metadata": {},
   "outputs": [],
   "source": [
    "<table>\n",
    "\n"
   ]
  },
  {
   "cell_type": "markdown",
   "id": "3f171ca1",
   "metadata": {},
   "source": [
    "|header|header|\n",
    "|------|------|\n",
    "| data | data |"
   ]
  },
  {
   "cell_type": "markdown",
   "id": "56a16ad1",
   "metadata": {},
   "source": [
    "<table>\n",
    "    <tr>\n",
    "        <th><strong><em>header</em></strong></th>\n",
    "        <th><strong><em>header</em></strong></th>\n",
    "    </tr>\n",
    "    <tr>\n",
    "        <td><em>data</em></td>\n",
    "        <td><em>data</em></td>\n",
    "    </tr>\n",
    "        \n",
    "      "
   ]
  },
  {
   "cell_type": "code",
   "execution_count": null,
   "id": "a4a59cd3",
   "metadata": {},
   "outputs": [],
   "source": [
    "print(hello)"
   ]
  },
  {
   "cell_type": "code",
   "execution_count": null,
   "id": "0cc3fa6f",
   "metadata": {},
   "outputs": [],
   "source": [
    "print(\"hello\")"
   ]
  },
  {
   "cell_type": "markdown",
   "id": "ff13bb5e",
   "metadata": {},
   "source": [
    "print(\"hello\")"
   ]
  },
  {
   "cell_type": "code",
   "execution_count": null,
   "id": "8617afb5",
   "metadata": {},
   "outputs": [],
   "source": [
    "2-4"
   ]
  },
  {
   "cell_type": "code",
   "execution_count": 16,
   "id": "dea81cde",
   "metadata": {},
   "outputs": [
    {
     "data": {
      "text/plain": [
       "'Good Morning favour, you are welcome!'"
      ]
     },
     "execution_count": 16,
     "metadata": {},
     "output_type": "execute_result"
    }
   ],
   "source": [
    "def greet_teacher (name):\n",
    "    return'Good Morning {}, you are welcome!'.format(name)\n",
    "greet_teacher('favour')"
   ]
  },
  {
   "cell_type": "code",
   "execution_count": 17,
   "id": "cbcb1b21",
   "metadata": {},
   "outputs": [
    {
     "name": "stdout",
     "output_type": "stream",
     "text": [
      "Good Morning favour, you are welcome!\n"
     ]
    }
   ],
   "source": [
    "def greet_teacher(name):\n",
    "    print('Good Morning '+name+', you are welcome!')\n",
    "greet_teacher('favour')"
   ]
  },
  {
   "cell_type": "code",
   "execution_count": 1,
   "id": "34c55aa5",
   "metadata": {},
   "outputs": [
    {
     "name": "stdout",
     "output_type": "stream",
     "text": [
      "Good Morning favour, you are welcome!\n"
     ]
    }
   ],
   "source": [
    "def greet_teacher(name):\n",
    "    print('Good Morning {}, you are welcome!'.format(name))\n",
    "greet_teacher('favour')"
   ]
  },
  {
   "cell_type": "code",
   "execution_count": 2,
   "id": "cc150779",
   "metadata": {},
   "outputs": [
    {
     "name": "stdout",
     "output_type": "stream",
     "text": [
      "Hello favour, you are 23 years today, Congrats!\n"
     ]
    }
   ],
   "source": [
    "print ('Hello {}, you are {} years today, Congrats!'.format('favour', 23))"
   ]
  },
  {
   "cell_type": "code",
   "execution_count": 3,
   "id": "2ccf6a77",
   "metadata": {},
   "outputs": [],
   "source": [
    "#LETS START AGAIN"
   ]
  },
  {
   "cell_type": "code",
   "execution_count": 7,
   "id": "22bf1ad0",
   "metadata": {},
   "outputs": [
    {
     "name": "stdout",
     "output_type": "stream",
     "text": [
      "My name is Favour Okike. I am 23 years old.\n"
     ]
    }
   ],
   "source": [
    "first_name = \"Favour\"\n",
    "last_name = \"Okike\"\n",
    "age = 23\n",
    "introduction = \"My name is \"+ first_name + \" \"+ last_name + \". I am \"+ str(age) + \" years old.\"\n",
    "print(introduction)"
   ]
  },
  {
   "cell_type": "code",
   "execution_count": 9,
   "id": "0598a300",
   "metadata": {},
   "outputs": [
    {
     "name": "stdout",
     "output_type": "stream",
     "text": [
      "My name is favour,I am 23 years old.\n"
     ]
    }
   ],
   "source": [
    "first_name = \"favour\"\n",
    "age = 23\n",
    "print(\"My name is {},I am {} years old.\".format(first_name, age))"
   ]
  },
  {
   "cell_type": "code",
   "execution_count": 12,
   "id": "47b0fafe",
   "metadata": {},
   "outputs": [
    {
     "name": "stdout",
     "output_type": "stream",
     "text": [
      "hello favour\n"
     ]
    }
   ],
   "source": [
    "first_name = \"favour\"\n",
    "print(f\"hello {first_name}\")\n"
   ]
  },
  {
   "cell_type": "code",
   "execution_count": 13,
   "id": "8407dd59",
   "metadata": {
    "scrolled": true
   },
   "outputs": [
    {
     "name": "stdout",
     "output_type": "stream",
     "text": [
      "v\n"
     ]
    }
   ],
   "source": [
    "name = \"favour\"\n",
    "print(name[2])"
   ]
  },
  {
   "cell_type": "code",
   "execution_count": 14,
   "id": "3788410b",
   "metadata": {},
   "outputs": [
    {
     "name": "stdout",
     "output_type": "stream",
     "text": [
      "our\n"
     ]
    }
   ],
   "source": [
    "print (name[3:])"
   ]
  },
  {
   "cell_type": "code",
   "execution_count": 16,
   "id": "f7149b0c",
   "metadata": {},
   "outputs": [
    {
     "name": "stdout",
     "output_type": "stream",
     "text": [
      "ur\n"
     ]
    }
   ],
   "source": [
    "print(name[-2:])"
   ]
  },
  {
   "cell_type": "code",
   "execution_count": 19,
   "id": "b11a658b",
   "metadata": {},
   "outputs": [
    {
     "name": "stdout",
     "output_type": "stream",
     "text": [
      "CONGRATS!\n",
      "happy\n"
     ]
    }
   ],
   "source": [
    "print(\"congrats!\".upper())\n",
    "print(\"HapPy\".lower())"
   ]
  },
  {
   "cell_type": "code",
   "execution_count": 18,
   "id": "0980d369",
   "metadata": {
    "scrolled": true
   },
   "outputs": [
    {
     "name": "stdout",
     "output_type": "stream",
     "text": [
      "Favour Okike\n"
     ]
    }
   ],
   "source": [
    "print(\"favour okike\".title())\n"
   ]
  },
  {
   "cell_type": "code",
   "execution_count": 21,
   "id": "05741126",
   "metadata": {},
   "outputs": [
    {
     "name": "stdout",
     "output_type": "stream",
     "text": [
      "hi, I am yoruba\n"
     ]
    }
   ],
   "source": [
    "import re #ignores case\n",
    "sentence= \"hi, I am Igbo\"\n",
    "sentence1= re.sub(\"igbo\",\"yoruba\",sentence,flags= re.IGNORECASE )\n",
    "print(sentence1)"
   ]
  },
  {
   "cell_type": "code",
   "execution_count": 22,
   "id": "6531b71c",
   "metadata": {},
   "outputs": [
    {
     "name": "stdout",
     "output_type": "stream",
     "text": [
      "hi?\n"
     ]
    }
   ],
   "source": [
    "print(\"hi!\".replace(\"!\",\"?\"))"
   ]
  },
  {
   "cell_type": "code",
   "execution_count": 27,
   "id": "b2cb120d",
   "metadata": {},
   "outputs": [
    {
     "name": "stdout",
     "output_type": "stream",
     "text": [
      "12\n"
     ]
    }
   ],
   "source": [
    "print(sentence1.find(\"uba\")) #index"
   ]
  },
  {
   "cell_type": "code",
   "execution_count": 34,
   "id": "5bb14fcb",
   "metadata": {},
   "outputs": [
    {
     "name": "stdout",
     "output_type": "stream",
     "text": [
      "x is less than y\n"
     ]
    }
   ],
   "source": [
    "x = -3\n",
    "y = 2\n",
    "if x == y:\n",
    "    print(\"x is equal to y\")\n",
    "    \n",
    "elif x > y:\n",
    "    print(\"x is greater than y\")\n",
    "    \n",
    "else:\n",
    "    print(\"x is less than y\")"
   ]
  },
  {
   "cell_type": "code",
   "execution_count": 41,
   "id": "cb48055c",
   "metadata": {},
   "outputs": [
    {
     "name": "stdout",
     "output_type": "stream",
     "text": [
      "jegede\n",
      "1\n",
      "['favour', 'jacobs', 30, ['seun', 'jegede']]\n"
     ]
    }
   ],
   "source": [
    "names = [\"favour\", \"okike\", 30, [\"seun\", \"jegede\"]]\n",
    "print(names[3][1])\n",
    "print(names.index(\"okike\"))\n",
    "names[1]=\"jacobs\"\n",
    "print(names)"
   ]
  },
  {
   "cell_type": "code",
   "execution_count": null,
   "id": "7b8b7b8b",
   "metadata": {},
   "outputs": [],
   "source": []
  }
 ],
 "metadata": {
  "kernelspec": {
   "display_name": "Python 3 (ipykernel)",
   "language": "python",
   "name": "python3"
  },
  "language_info": {
   "codemirror_mode": {
    "name": "ipython",
    "version": 3
   },
   "file_extension": ".py",
   "mimetype": "text/x-python",
   "name": "python",
   "nbconvert_exporter": "python",
   "pygments_lexer": "ipython3",
   "version": "3.9.13"
  }
 },
 "nbformat": 4,
 "nbformat_minor": 5
}
