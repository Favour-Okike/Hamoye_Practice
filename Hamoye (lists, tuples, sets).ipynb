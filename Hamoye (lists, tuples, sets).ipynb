{
 "cells": [
  {
   "cell_type": "code",
   "execution_count": 28,
   "id": "0d984aec",
   "metadata": {},
   "outputs": [
    {
     "name": "stdout",
     "output_type": "stream",
     "text": [
      "['alphie', 'favour', 'ife', 'laurel']\n",
      "<class 'list'>\n",
      "['alphie', 'favour', 'ife', 'laurel', 'kola']\n",
      "[5.5, 6, 7, 50]\n",
      "['alphie', 'favour', 'ife', 'laurel', 'kola', 5.5, 6, 7, 50]\n",
      "5\n",
      "3\n",
      "(4, 5, 5, 7, 4, 3)\n",
      "{'orange', 'mango', 'banana', 'pineapple'}\n",
      "{'banana', 'mango', 'orange', 'pineapple', 'apple', 'carrot'}\n",
      "{'banana', 'mango', 'orange', 'pineapple', 'watermelon'}\n",
      "{'banana', 'orange', 'pineapple', 'watermelon'}\n",
      "6\n",
      "{'banana', 'mango', 'orange', 'pineapple', 'apple', 'watermelon', 'carrot'}\n",
      "{'orange', 'banana', 'pineapple'}\n",
      "{'watermelon'}\n",
      "{'mango', 'apple', 'carrot'}\n",
      "{'apple', 'mango', 'watermelon', 'carrot'}\n",
      "False\n"
     ]
    }
   ],
   "source": [
    "#lists\n",
    "names = [\"favour\", \"ife\", \"alphie\", \"laurel\"]\n",
    "numbers = [5.5, 7, 50]\n",
    "names.sort()\n",
    "print(names)\n",
    "print(type(names))\n",
    "names.append(\"kola\")\n",
    "print(names)\n",
    "numbers.insert(1,6)\n",
    "print(numbers)\n",
    "names.extend(numbers)\n",
    "print(names)\n",
    "#tuples\n",
    "tuple1= (4,5,5)\n",
    "tuple2=(7,4,3)\n",
    "print(tuple1[2])\n",
    "tuplee= tuple1+tuple2\n",
    "print(tuplee[5])\n",
    "print(tuplee)\n",
    "#sets\n",
    "fruits = {\"orange\",\"mango\",\"banana\",\"pineapple\",\"banana\"}\n",
    "print(fruits) #duplicates are removed\n",
    "#alternative for set creation\n",
    "fruits1 = set([\"orange\",\"carrot\",\"apple\",\"mango\",\"banana\",\"pineapple\",\"banana\"])\n",
    "print(fruits1)\n",
    "#examples for sets\n",
    "fruits.add(\"watermelon\")\n",
    "print(fruits)\n",
    "fruits.remove(\"mango\")\n",
    "print(fruits)\n",
    "print(len(fruits1))\n",
    "print(fruits|fruits1)#union\n",
    "print(fruits&fruits1)#intersection\n",
    "print(fruits-fruits1)#difference\n",
    "print(fruits1-fruits)#difference\n",
    "print(fruits^fruits1)#symmetric difference\n",
    "print(fruits.isdisjoint(fruits1))"
   ]
  }
 ],
 "metadata": {
  "kernelspec": {
   "display_name": "Python 3 (ipykernel)",
   "language": "python",
   "name": "python3"
  },
  "language_info": {
   "codemirror_mode": {
    "name": "ipython",
    "version": 3
   },
   "file_extension": ".py",
   "mimetype": "text/x-python",
   "name": "python",
   "nbconvert_exporter": "python",
   "pygments_lexer": "ipython3",
   "version": "3.9.13"
  }
 },
 "nbformat": 4,
 "nbformat_minor": 5
}
